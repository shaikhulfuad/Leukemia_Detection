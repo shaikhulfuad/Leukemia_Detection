{
  "nbformat": 4,
  "nbformat_minor": 0,
  "metadata": {
    "colab": {
      "name": "LeukemiaDetection CNN.ipynb",
      "provenance": [],
      "collapsed_sections": []
    },
    "kernelspec": {
      "name": "python3",
      "display_name": "Python 3"
    },
    "language_info": {
      "name": "python"
    },
    "accelerator": "GPU"
  },
  "cells": [
    {
      "cell_type": "code",
      "execution_count": null,
      "metadata": {
        "id": "yKbwKvVkMJKH"
      },
      "outputs": [],
      "source": [
        "!unzip /content/drive/MyDrive/C-NMC_Leukemia.zip"
      ]
    },
    {
      "cell_type": "code",
      "source": [
        "from google.colab import drive\n",
        "drive.mount('/content/drive')"
      ],
      "metadata": {
        "colab": {
          "base_uri": "https://localhost:8080/"
        },
        "id": "FrkZISUiaF-c",
        "outputId": "269e9a02-c9ce-49d8-8ec3-32eb3b40c832"
      },
      "execution_count": null,
      "outputs": [
        {
          "output_type": "stream",
          "name": "stdout",
          "text": [
            "Mounted at /content/drive\n"
          ]
        }
      ]
    },
    {
      "cell_type": "code",
      "source": [
        "#Libraries\n",
        "import numpy as np\n",
        "import pandas as pd\n",
        "import matplotlib.pyplot as plt\n",
        "\n",
        "import os\n",
        "import math\n",
        "import shutil\n",
        "import tqdm\n",
        "import skimage.io\n",
        "from tqdm import tqdm\n",
        "from skimage.io import imread, imshow\n",
        "from skimage.transform import resize\n",
        "\n",
        "import keras\n",
        "import glob\n",
        "from keras.layers import Dense, Conv2D, MaxPool2D, Dropout, Flatten, BatchNormalization\n",
        "from keras.models import Sequential\n",
        "from keras.preprocessing import image\n",
        "\n",
        "from tensorflow.keras.callbacks import EarlyStopping, ModelCheckpoint"
      ],
      "metadata": {
        "id": "SLZ83HxJMeB9"
      },
      "execution_count": null,
      "outputs": []
    },
    {
      "cell_type": "code",
      "source": [
        "ROOT_DIR = '/content/C-NMC_Leukemia/training_data/C-NMC_train_phase_data'"
      ],
      "metadata": {
        "id": "1XZYC7M8M1gJ"
      },
      "execution_count": null,
      "outputs": []
    },
    {
      "cell_type": "code",
      "source": [
        "number_of_images = {}\n",
        "\n",
        "for dir in os.listdir(ROOT_DIR):\n",
        "  number_of_images[dir] = len(os.listdir(os.path.join(ROOT_DIR, dir)))\n",
        "\n",
        "number_of_images.items()"
      ],
      "metadata": {
        "colab": {
          "base_uri": "https://localhost:8080/"
        },
        "id": "xb2FRqPIO0Sj",
        "outputId": "a84f8eec-318e-4dae-ac86-3af93744b577"
      },
      "execution_count": null,
      "outputs": [
        {
          "output_type": "execute_result",
          "data": {
            "text/plain": [
              "dict_items([('2.all', 7272), ('1.hem', 3389)])"
            ]
          },
          "metadata": {},
          "execution_count": 5
        }
      ]
    },
    {
      "cell_type": "code",
      "source": [
        "def datafolder(p, split):\n",
        "    if not os.path.exists(\"./\"+p):\n",
        "      os.mkdir(\"./\"+p)\n",
        "\n",
        "      for dir in os.listdir(ROOT_DIR):\n",
        "        os.makedirs(\"./\"+p+\"/\"+dir)\n",
        "\n",
        "        for img in np.random.choice(a = os.listdir(os.path.join(ROOT_DIR, dir)) , size = (math.floor(split*number_of_images[dir])-5), replace=False ):\n",
        "\n",
        "          O = os.path.join(ROOT_DIR, dir, img)\n",
        "          D = os.path.join(\"./\"+p, dir)\n",
        "          shutil.copy(O,D)\n",
        "          os.remove(O)\n",
        "    else:\n",
        "      print(f\"{p}Train Folder exist\")"
      ],
      "metadata": {
        "id": "5f5AZfGgNkpl"
      },
      "execution_count": null,
      "outputs": []
    },
    {
      "cell_type": "code",
      "source": [
        "datafolder(\"train\", 0.60)"
      ],
      "metadata": {
        "id": "OoIBFdkhUjmb"
      },
      "execution_count": null,
      "outputs": []
    },
    {
      "cell_type": "code",
      "source": [
        "datafolder(\"val\", 0.20)"
      ],
      "metadata": {
        "id": "D0hVPGwMRd6a"
      },
      "execution_count": null,
      "outputs": []
    },
    {
      "cell_type": "code",
      "source": [
        "datafolder(\"test\", 0.20)"
      ],
      "metadata": {
        "id": "hubox9rEVqy7"
      },
      "execution_count": null,
      "outputs": []
    },
    {
      "cell_type": "code",
      "source": [
        "#data_augmentation\n",
        "train_datagen = image.ImageDataGenerator(\n",
        "    rescale = 1/255, horizontal_flip = True, vertical_flip = True, zoom_range = 0.2, shear_range = 0.2\n",
        ")\n",
        "\n",
        "train_data = train_datagen.flow_from_directory(directory=(\"/content/train\"), target_size= (256,256), batch_size= 32, class_mode = 'binary')"
      ],
      "metadata": {
        "colab": {
          "base_uri": "https://localhost:8080/"
        },
        "id": "lqZYS3tfWHsT",
        "outputId": "6c9bfb37-0eaf-494f-e998-1ba22a3068c3"
      },
      "execution_count": null,
      "outputs": [
        {
          "output_type": "stream",
          "name": "stdout",
          "text": [
            "Found 6386 images belonging to 2 classes.\n"
          ]
        }
      ]
    },
    {
      "cell_type": "code",
      "source": [
        "\n",
        "val_datagen = image.ImageDataGenerator(\n",
        "    rescale = 1/255\n",
        ")\n",
        "\n",
        "val_data = val_datagen.flow_from_directory(directory=(\"/content/val\"), target_size= (256,256), batch_size= 32, class_mode = 'binary')"
      ],
      "metadata": {
        "colab": {
          "base_uri": "https://localhost:8080/"
        },
        "id": "50f1sYEaWZNJ",
        "outputId": "b595612e-f114-4039-eee6-198ca4ed49f9"
      },
      "execution_count": null,
      "outputs": [
        {
          "output_type": "stream",
          "name": "stdout",
          "text": [
            "Found 2121 images belonging to 2 classes.\n"
          ]
        }
      ]
    },
    {
      "cell_type": "code",
      "source": [
        "\n",
        "test_datagen = image.ImageDataGenerator(\n",
        "    rescale = 1/255\n",
        ")\n",
        "\n",
        "test_data = test_datagen.flow_from_directory(directory=(\"/content/test\"), target_size= (256,256), batch_size= 32, class_mode = 'binary')"
      ],
      "metadata": {
        "colab": {
          "base_uri": "https://localhost:8080/"
        },
        "id": "0HStgBDTYbC8",
        "outputId": "074b5550-c859-4bcf-e701-932f0faf330c"
      },
      "execution_count": null,
      "outputs": [
        {
          "output_type": "stream",
          "name": "stdout",
          "text": [
            "Found 2121 images belonging to 2 classes.\n"
          ]
        }
      ]
    },
    {
      "cell_type": "code",
      "source": [
        "model = Sequential()"
      ],
      "metadata": {
        "id": "H-ChLdMeW2Fh"
      },
      "execution_count": null,
      "outputs": []
    },
    {
      "cell_type": "code",
      "source": [
        "model.add(Conv2D(filters= 32, kernel_size=(3,3), padding='same', activation='relu', input_shape = (256,256,3)))\n",
        "model.add(MaxPool2D())\n",
        "model.add(Dropout(rate=0.25))\n",
        "\n",
        "model.add(Conv2D(filters= 64, kernel_size=(3,3), padding='same', activation='relu'))\n",
        "model.add(MaxPool2D())\n",
        "model.add(Dropout(rate=0.25))\n",
        "\n",
        "model.add(Conv2D(filters= 64, kernel_size=(3,3), padding='same', activation='relu'))\n",
        "model.add(MaxPool2D())\n",
        "model.add(Dropout(rate=0.25))\n",
        "\n",
        "model.add(Conv2D(filters= 128, kernel_size=(3,3), padding='same', activation='relu'))\n",
        "model.add(MaxPool2D())\n",
        "model.add(Dropout(rate=0.25))\n",
        "\n",
        "\n",
        "\n",
        "model.add(Flatten())\n",
        "model.add(Dense(units = 64, activation='relu'))\n",
        "model.add(Dropout(rate=0.25))\n",
        "\n",
        "\n",
        "model.add(Dense(units= 1, activation='sigmoid'))\n",
        "\n",
        "model.compile(loss= 'binary_crossentropy', optimizer= 'adam', metrics='accuracy')"
      ],
      "metadata": {
        "id": "L6POgoczW243"
      },
      "execution_count": null,
      "outputs": []
    },
    {
      "cell_type": "code",
      "source": [
        "model.summary()"
      ],
      "metadata": {
        "colab": {
          "base_uri": "https://localhost:8080/"
        },
        "id": "4HPZ7HgdW97x",
        "outputId": "cd348832-0333-496e-86fb-85deac8fc539"
      },
      "execution_count": null,
      "outputs": [
        {
          "output_type": "stream",
          "name": "stdout",
          "text": [
            "Model: \"sequential\"\n",
            "_________________________________________________________________\n",
            " Layer (type)                Output Shape              Param #   \n",
            "=================================================================\n",
            " conv2d (Conv2D)             (None, 256, 256, 32)      896       \n",
            "                                                                 \n",
            " max_pooling2d (MaxPooling2D  (None, 128, 128, 32)     0         \n",
            " )                                                               \n",
            "                                                                 \n",
            " dropout (Dropout)           (None, 128, 128, 32)      0         \n",
            "                                                                 \n",
            " conv2d_1 (Conv2D)           (None, 128, 128, 64)      18496     \n",
            "                                                                 \n",
            " max_pooling2d_1 (MaxPooling  (None, 64, 64, 64)       0         \n",
            " 2D)                                                             \n",
            "                                                                 \n",
            " dropout_1 (Dropout)         (None, 64, 64, 64)        0         \n",
            "                                                                 \n",
            " conv2d_2 (Conv2D)           (None, 64, 64, 64)        36928     \n",
            "                                                                 \n",
            " max_pooling2d_2 (MaxPooling  (None, 32, 32, 64)       0         \n",
            " 2D)                                                             \n",
            "                                                                 \n",
            " dropout_2 (Dropout)         (None, 32, 32, 64)        0         \n",
            "                                                                 \n",
            " conv2d_3 (Conv2D)           (None, 32, 32, 128)       73856     \n",
            "                                                                 \n",
            " max_pooling2d_3 (MaxPooling  (None, 16, 16, 128)      0         \n",
            " 2D)                                                             \n",
            "                                                                 \n",
            " dropout_3 (Dropout)         (None, 16, 16, 128)       0         \n",
            "                                                                 \n",
            " flatten (Flatten)           (None, 32768)             0         \n",
            "                                                                 \n",
            " dense (Dense)               (None, 64)                2097216   \n",
            "                                                                 \n",
            " dropout_4 (Dropout)         (None, 64)                0         \n",
            "                                                                 \n",
            " dense_1 (Dense)             (None, 1)                 65        \n",
            "                                                                 \n",
            "=================================================================\n",
            "Total params: 2,227,457\n",
            "Trainable params: 2,227,457\n",
            "Non-trainable params: 0\n",
            "_________________________________________________________________\n"
          ]
        }
      ]
    },
    {
      "cell_type": "code",
      "source": [
        "# Defining callbacks\n",
        "\n",
        "filepath = './bestmodel.h5'\n",
        "\n",
        "earlystopping = EarlyStopping(monitor = 'val_accuracy', \n",
        "                              mode = 'max' , \n",
        "                              patience = 6)\n",
        "\n",
        "checkpoint    = ModelCheckpoint(filepath, \n",
        "                                monitor = 'val_accuracy', \n",
        "                                mode='max', \n",
        "                                save_best_only=True, \n",
        "                                verbose = 1)\n",
        "\n",
        "callback_list = [earlystopping, checkpoint]"
      ],
      "metadata": {
        "id": "mHFitxiIW-io"
      },
      "execution_count": null,
      "outputs": []
    },
    {
      "cell_type": "code",
      "source": [
        "res = model.fit_generator(train_data, steps_per_epoch=16, epochs=15, validation_steps= 2,\n",
        "                    validation_data = val_data,\n",
        "                    callbacks = callback_list\n",
        "                    )"
      ],
      "metadata": {
        "colab": {
          "base_uri": "https://localhost:8080/"
        },
        "id": "SX3o9nRZXCXR",
        "outputId": "fbd31585-0aff-4933-ab0c-7e3d4ade3ca4"
      },
      "execution_count": null,
      "outputs": [
        {
          "output_type": "stream",
          "name": "stderr",
          "text": [
            "/usr/local/lib/python3.7/dist-packages/ipykernel_launcher.py:3: UserWarning: `Model.fit_generator` is deprecated and will be removed in a future version. Please use `Model.fit`, which supports generators.\n",
            "  This is separate from the ipykernel package so we can avoid doing imports until\n"
          ]
        },
        {
          "output_type": "stream",
          "name": "stdout",
          "text": [
            "Epoch 1/15\n",
            "16/16 [==============================] - ETA: 0s - loss: 0.5061 - accuracy: 0.7771\n",
            "Epoch 00001: val_accuracy improved from -inf to 0.82812, saving model to ./bestmodel.h5\n",
            "16/16 [==============================] - 11s 684ms/step - loss: 0.5061 - accuracy: 0.7771 - val_loss: 0.5645 - val_accuracy: 0.8281\n",
            "Epoch 2/15\n",
            "16/16 [==============================] - ETA: 0s - loss: 0.5244 - accuracy: 0.7520\n",
            "Epoch 00002: val_accuracy did not improve from 0.82812\n",
            "16/16 [==============================] - 10s 624ms/step - loss: 0.5244 - accuracy: 0.7520 - val_loss: 0.4809 - val_accuracy: 0.7969\n",
            "Epoch 3/15\n",
            "16/16 [==============================] - ETA: 0s - loss: 0.5211 - accuracy: 0.7631\n",
            "Epoch 00003: val_accuracy did not improve from 0.82812\n",
            "16/16 [==============================] - 10s 597ms/step - loss: 0.5211 - accuracy: 0.7631 - val_loss: 0.5487 - val_accuracy: 0.7969\n",
            "Epoch 4/15\n",
            "16/16 [==============================] - ETA: 0s - loss: 0.5407 - accuracy: 0.7578\n",
            "Epoch 00004: val_accuracy did not improve from 0.82812\n",
            "16/16 [==============================] - 10s 604ms/step - loss: 0.5407 - accuracy: 0.7578 - val_loss: 0.6308 - val_accuracy: 0.7188\n",
            "Epoch 5/15\n",
            "16/16 [==============================] - ETA: 0s - loss: 0.5540 - accuracy: 0.7656\n",
            "Epoch 00005: val_accuracy did not improve from 0.82812\n",
            "16/16 [==============================] - 10s 596ms/step - loss: 0.5540 - accuracy: 0.7656 - val_loss: 0.5017 - val_accuracy: 0.8125\n",
            "Epoch 6/15\n",
            "16/16 [==============================] - ETA: 0s - loss: 0.4896 - accuracy: 0.7871\n",
            "Epoch 00006: val_accuracy did not improve from 0.82812\n",
            "16/16 [==============================] - 10s 591ms/step - loss: 0.4896 - accuracy: 0.7871 - val_loss: 0.5174 - val_accuracy: 0.7500\n",
            "Epoch 7/15\n",
            "16/16 [==============================] - ETA: 0s - loss: 0.5167 - accuracy: 0.7578\n",
            "Epoch 00007: val_accuracy improved from 0.82812 to 0.85938, saving model to ./bestmodel.h5\n",
            "16/16 [==============================] - 10s 602ms/step - loss: 0.5167 - accuracy: 0.7578 - val_loss: 0.4788 - val_accuracy: 0.8594\n",
            "Epoch 8/15\n",
            "16/16 [==============================] - ETA: 0s - loss: 0.4777 - accuracy: 0.7988\n",
            "Epoch 00008: val_accuracy did not improve from 0.85938\n",
            "16/16 [==============================] - 10s 600ms/step - loss: 0.4777 - accuracy: 0.7988 - val_loss: 0.4787 - val_accuracy: 0.7812\n",
            "Epoch 9/15\n",
            "16/16 [==============================] - ETA: 0s - loss: 0.4951 - accuracy: 0.7773\n",
            "Epoch 00009: val_accuracy did not improve from 0.85938\n",
            "16/16 [==============================] - 9s 576ms/step - loss: 0.4951 - accuracy: 0.7773 - val_loss: 0.4908 - val_accuracy: 0.7344\n",
            "Epoch 10/15\n",
            "16/16 [==============================] - ETA: 0s - loss: 0.5019 - accuracy: 0.7793\n",
            "Epoch 00010: val_accuracy did not improve from 0.85938\n",
            "16/16 [==============================] - 9s 571ms/step - loss: 0.5019 - accuracy: 0.7793 - val_loss: 0.5733 - val_accuracy: 0.7031\n",
            "Epoch 11/15\n",
            "16/16 [==============================] - ETA: 0s - loss: 0.4958 - accuracy: 0.7691\n",
            "Epoch 00011: val_accuracy did not improve from 0.85938\n",
            "16/16 [==============================] - 9s 558ms/step - loss: 0.4958 - accuracy: 0.7691 - val_loss: 0.4645 - val_accuracy: 0.7812\n",
            "Epoch 12/15\n",
            "16/16 [==============================] - ETA: 0s - loss: 0.4921 - accuracy: 0.7598\n",
            "Epoch 00012: val_accuracy did not improve from 0.85938\n",
            "16/16 [==============================] - 9s 573ms/step - loss: 0.4921 - accuracy: 0.7598 - val_loss: 0.4384 - val_accuracy: 0.8125\n",
            "Epoch 13/15\n",
            "16/16 [==============================] - ETA: 0s - loss: 0.5167 - accuracy: 0.7676\n",
            "Epoch 00013: val_accuracy did not improve from 0.85938\n",
            "16/16 [==============================] - 9s 570ms/step - loss: 0.5167 - accuracy: 0.7676 - val_loss: 0.4565 - val_accuracy: 0.7812\n"
          ]
        }
      ]
    },
    {
      "cell_type": "code",
      "source": [
        "#model graphical view\n",
        "\n",
        "his = res.history\n",
        "his.keys()"
      ],
      "metadata": {
        "colab": {
          "base_uri": "https://localhost:8080/"
        },
        "id": "m5xPCQvnXhgh",
        "outputId": "63ae633b-2b43-496d-ffc4-7fb46c5f4ca0"
      },
      "execution_count": null,
      "outputs": [
        {
          "output_type": "execute_result",
          "data": {
            "text/plain": [
              "dict_keys(['loss', 'accuracy', 'val_loss', 'val_accuracy'])"
            ]
          },
          "metadata": {},
          "execution_count": 20
        }
      ]
    },
    {
      "cell_type": "code",
      "source": [
        "plt.plot(his['accuracy'])\n",
        "plt.plot(his['val_accuracy'] )\n",
        "\n",
        "plt.title('acc vs val_acc')\n",
        "plt.xlabel(\"Epochs\")\n",
        "plt.ylabel(\"Accuracy\")\n",
        "plt.legend([\"Train\",\"val\"],loc = \"upper left\")\n",
        "plt.show"
      ],
      "metadata": {
        "colab": {
          "base_uri": "https://localhost:8080/",
          "height": 312
        },
        "id": "MRqwIwFwXko5",
        "outputId": "c853def2-85d7-402e-bc1b-9e6207740ac9"
      },
      "execution_count": null,
      "outputs": [
        {
          "output_type": "execute_result",
          "data": {
            "text/plain": [
              "<function matplotlib.pyplot.show>"
            ]
          },
          "metadata": {},
          "execution_count": 21
        },
        {
          "output_type": "display_data",
          "data": {
            "image/png": "[encoded data removed]",
            "text/plain": [
              "<Figure size 432x288 with 1 Axes>"
            ]
          },
          "metadata": {
            "needs_background": "light"
          }
        }
      ]
    },
    {
      "cell_type": "code",
      "source": [
        "plt.plot(his['loss'])\n",
        "plt.plot(his['val_loss'], c ='red')\n",
        "\n",
        "plt.title('loss vs val_loss')\n",
        "plt.xlabel(\"Epochs\")\n",
        "plt.ylabel(\"Loss\")\n",
        "plt.legend([\"Train\",\"val\"],loc = \"upper left\")\n",
        "plt.show"
      ],
      "metadata": {
        "colab": {
          "base_uri": "https://localhost:8080/",
          "height": 312
        },
        "id": "SdvKr2WuXoBJ",
        "outputId": "2ea78881-217d-42f4-e0b6-abe10c64c400"
      },
      "execution_count": null,
      "outputs": [
        {
          "output_type": "execute_result",
          "data": {
            "text/plain": [
              "<function matplotlib.pyplot.show>"
            ]
          },
          "metadata": {},
          "execution_count": 22
        },
        {
          "output_type": "display_data",
          "data": {
            "image/png": "[encoded data removed]",
            "text/plain": [
              "<Figure size 432x288 with 1 Axes>"
            ]
          },
          "metadata": {
            "needs_background": "light"
          }
        }
      ]
    },
    {
      "cell_type": "code",
      "source": [
        "#model accuracy\n",
        "\n",
        "from keras.models import load_model\n",
        "\n",
        "model = load_model('/content/bestmodel.h5')"
      ],
      "metadata": {
        "id": "C8li2NpCX-0d"
      },
      "execution_count": null,
      "outputs": []
    },
    {
      "cell_type": "code",
      "source": [
        "acc = model.evaluate_generator(test_data)[1]\n",
        "\n",
        "print(acc)"
      ],
      "metadata": {
        "colab": {
          "base_uri": "https://localhost:8080/"
        },
        "id": "pg1nEevpYnH5",
        "outputId": "fc1f2f8f-7807-432c-f4e0-e6f87452e395"
      },
      "execution_count": null,
      "outputs": [
        {
          "output_type": "stream",
          "name": "stderr",
          "text": [
            "/usr/local/lib/python3.7/dist-packages/ipykernel_launcher.py:1: UserWarning: `Model.evaluate_generator` is deprecated and will be removed in a future version. Please use `Model.evaluate`, which supports generators.\n",
            "  \"\"\"Entry point for launching an IPython kernel.\n"
          ]
        },
        {
          "output_type": "stream",
          "name": "stdout",
          "text": [
            "0.7958509922027588\n"
          ]
        }
      ]
    }
  ]
}