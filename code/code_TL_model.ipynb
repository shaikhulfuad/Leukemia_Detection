{
  "nbformat": 4,
  "nbformat_minor": 0,
  "metadata": {
    "colab": {
      "name": "leukemiadetection TLmodel.ipynb",
      "provenance": [],
      "collapsed_sections": []
    },
    "kernelspec": {
      "name": "python3",
      "display_name": "Python 3"
    },
    "language_info": {
      "name": "python"
    },
    "accelerator": "GPU"
  },
  "cells": [
    {
      "cell_type": "code",
      "execution_count": null,
      "metadata": {
        "id": "cM44bl37GXK8"
      },
      "outputs": [],
      "source": [
        "#Libraries\n",
        "import numpy as np\n",
        "import pandas as pd\n",
        "import matplotlib.pyplot as plt\n",
        "\n",
        "import os\n",
        "import math\n",
        "import shutil\n",
        "import tqdm\n",
        "import skimage.io\n",
        "from tqdm import tqdm\n",
        "from skimage.io import imread, imshow\n",
        "from skimage.transform import resize\n",
        "\n",
        "\n",
        "import tensorflow as tf\n",
        "import keras\n",
        "import glob\n",
        "from keras.layers import Dense, Flatten\n",
        "from keras.models import Sequential\n",
        "from keras.preprocessing import image\n",
        "\n",
        "from tensorflow.keras.callbacks import EarlyStopping, ModelCheckpoint"
      ]
    },
    {
      "cell_type": "code",
      "source": [
        "!unzip /content/drive/MyDrive/C-NMC_Leukemia.zip"
      ],
      "metadata": {
        "id": "kCHH3FssEqNq"
      },
      "execution_count": null,
      "outputs": []
    },
    {
      "cell_type": "code",
      "source": [
        "ROOT_DIR = '/content/C-NMC_Leukemia/training_data/C-NMC_train_phase_data'"
      ],
      "metadata": {
        "id": "Hp2r8OVlzDP_"
      },
      "execution_count": null,
      "outputs": []
    },
    {
      "cell_type": "code",
      "source": [
        "number_of_images = {}\n",
        "\n",
        "for dir in os.listdir(ROOT_DIR):\n",
        "  number_of_images[dir] = len(os.listdir(os.path.join(ROOT_DIR, dir)))\n",
        "\n",
        "number_of_images.items()"
      ],
      "metadata": {
        "colab": {
          "base_uri": "https://localhost:8080/"
        },
        "id": "hSwkr2xPy90M",
        "outputId": "6eb74abb-f8dc-4014-b3f1-33d40c0683bd"
      },
      "execution_count": null,
      "outputs": [
        {
          "output_type": "execute_result",
          "data": {
            "text/plain": [
              "dict_items([('2.all', 7272), ('1.hem', 3389)])"
            ]
          },
          "metadata": {},
          "execution_count": 5
        }
      ]
    },
    {
      "cell_type": "code",
      "source": [
        "def datafolder(p, split):\n",
        "    if not os.path.exists(\"./\"+p):\n",
        "      os.mkdir(\"./\"+p)\n",
        "\n",
        "      for dir in os.listdir(ROOT_DIR):\n",
        "        os.makedirs(\"./\"+p+\"/\"+dir)\n",
        "\n",
        "        for img in np.random.choice(a = os.listdir(os.path.join(ROOT_DIR, dir)) , size = (math.floor(split*number_of_images[dir])-5), replace=False ):\n",
        "\n",
        "          O = os.path.join(ROOT_DIR, dir, img)\n",
        "          D = os.path.join(\"./\"+p, dir)\n",
        "          shutil.copy(O,D)\n",
        "          os.remove(O)\n",
        "    else:\n",
        "      print(f\"{p}Train Folder exist\")"
      ],
      "metadata": {
        "id": "zRrA3w2zzAe6"
      },
      "execution_count": null,
      "outputs": []
    },
    {
      "cell_type": "code",
      "source": [
        "datafolder(\"train\", 0.60)"
      ],
      "metadata": {
        "id": "Y2KVCffPzHJb"
      },
      "execution_count": null,
      "outputs": []
    },
    {
      "cell_type": "code",
      "source": [
        "datafolder(\"val\", 0.20)"
      ],
      "metadata": {
        "id": "ByCMPe_zzJJu"
      },
      "execution_count": null,
      "outputs": []
    },
    {
      "cell_type": "code",
      "source": [
        "datafolder(\"test\", 0.20)"
      ],
      "metadata": {
        "id": "8kh3849izKqc"
      },
      "execution_count": null,
      "outputs": []
    },
    {
      "cell_type": "code",
      "source": [
        "#data_augmentation\n",
        "train_datagen = image.ImageDataGenerator(\n",
        "    rescale = 1/255, horizontal_flip = True, vertical_flip = True, zoom_range = 0.2, shear_range = 0.2\n",
        ")\n",
        "\n",
        "train_data = train_datagen.flow_from_directory(directory=(\"/content/train\"), target_size= (224,224), batch_size= 32, class_mode = 'binary')"
      ],
      "metadata": {
        "colab": {
          "base_uri": "https://localhost:8080/"
        },
        "id": "bq5aV53UzNt0",
        "outputId": "3cc78850-c9f1-41b5-e395-82f9ac1d01e5"
      },
      "execution_count": null,
      "outputs": [
        {
          "output_type": "stream",
          "name": "stdout",
          "text": [
            "Found 6386 images belonging to 2 classes.\n"
          ]
        }
      ]
    },
    {
      "cell_type": "code",
      "source": [
        "\n",
        "val_datagen = image.ImageDataGenerator(\n",
        "    rescale = 1/255\n",
        ")\n",
        "\n",
        "val_data = val_datagen.flow_from_directory(directory=(\"/content/val\"), target_size= (224,224), batch_size= 32, class_mode = 'binary')"
      ],
      "metadata": {
        "colab": {
          "base_uri": "https://localhost:8080/"
        },
        "id": "b2-Oa5m4zR9c",
        "outputId": "14436253-1522-48c9-d8e6-d992e5da0800"
      },
      "execution_count": null,
      "outputs": [
        {
          "output_type": "stream",
          "name": "stdout",
          "text": [
            "Found 2121 images belonging to 2 classes.\n"
          ]
        }
      ]
    },
    {
      "cell_type": "code",
      "source": [
        "\n",
        "test_datagen = image.ImageDataGenerator(\n",
        "    rescale = 1/255\n",
        ")\n",
        "\n",
        "test_data = test_datagen.flow_from_directory(directory=(\"/content/test\"), target_size= (224,224), batch_size= 32, class_mode = 'binary')"
      ],
      "metadata": {
        "colab": {
          "base_uri": "https://localhost:8080/"
        },
        "id": "amFEPZlEzWA-",
        "outputId": "966092be-0c06-4c7c-c5a2-04b726699510"
      },
      "execution_count": null,
      "outputs": [
        {
          "output_type": "stream",
          "name": "stdout",
          "text": [
            "Found 2121 images belonging to 2 classes.\n"
          ]
        }
      ]
    },
    {
      "cell_type": "code",
      "source": [
        "#from tensorflow.keras.applications import ResNet101\n",
        "#from keras.layers import GlobalAveragePooling2D, BatchNormalization, Dropout, GlobalMaxPool2D"
      ],
      "metadata": {
        "id": "obwzoCcL9QU9"
      },
      "execution_count": null,
      "outputs": []
    },
    {
      "cell_type": "code",
      "source": [
        "#densenet = ResNet101(\n",
        "#    weights=\"imagenet\",\n",
        "#    include_top=False,\n",
        "#    input_shape=(224,224,3)\n",
        "#)"
      ],
      "metadata": {
        "id": "khILKiuA9gqF"
      },
      "execution_count": null,
      "outputs": []
    },
    {
      "cell_type": "code",
      "source": [
        "#model = tf.keras.models.Sequential([densenet,\n",
        " #                                       GlobalMaxPool2D(),\n",
        "  #                                      Dense(512, activation='relu'),\n",
        "   #                                     \n",
        "    #                                    Dense(1, activation='sigmoid')\n",
        "     #                                 ])"
      ],
      "metadata": {
        "id": "kRzrhj5Q-j9i"
      },
      "execution_count": null,
      "outputs": []
    },
    {
      "cell_type": "code",
      "source": [
        "model = Sequential()\n",
        "\n",
        "pretrained_model = tf.keras.applications.InceptionV3(include_top=False,\n",
        "                                                        input_shape=(224,224,3),\n",
        "                                                        pooling='average', classes=2,\n",
        "                                                        weights='imagenet')\n",
        "\n",
        "for layer in pretrained_model.layers:\n",
        "  layer.trainable=False"
      ],
      "metadata": {
        "id": "6tapm2SyGpPL",
        "colab": {
          "base_uri": "https://localhost:8080/"
        },
        "outputId": "098e9dbe-9189-4b3d-8742-c343f5ca34ce"
      },
      "execution_count": null,
      "outputs": [
        {
          "output_type": "stream",
          "name": "stdout",
          "text": [
            "Downloading data from https://storage.googleapis.com/tensorflow/keras-applications/inception_resnet_v2/inception_resnet_v2_weights_tf_dim_ordering_tf_kernels_notop.h5\n",
            "219062272/219055592 [==============================] - 2s 0us/step\n",
            "219070464/219055592 [==============================] - 2s 0us/step\n"
          ]
        }
      ]
    },
    {
      "cell_type": "code",
      "source": [
        "model.add(pretrained_model)\n",
        "model.add(Flatten())\n",
        "model.add(Dense(512, activation='relu'))\n",
        "model.add(Dense(1, activation='sigmoid'))"
      ],
      "metadata": {
        "id": "bn_RKpE7IznK"
      },
      "execution_count": null,
      "outputs": []
    },
    {
      "cell_type": "code",
      "source": [
        "model.summary()"
      ],
      "metadata": {
        "id": "GrnXglFsJY9_"
      },
      "execution_count": null,
      "outputs": []
    },
    {
      "cell_type": "code",
      "source": [
        "model.compile(loss= 'binary_crossentropy', optimizer= 'adam', metrics='accuracy')"
      ],
      "metadata": {
        "id": "Vl2QYdrXJ8ri"
      },
      "execution_count": null,
      "outputs": []
    },
    {
      "cell_type": "code",
      "source": [
        "# Defining callbacks\n",
        "\n",
        "filepath = './bestmodel.h5'\n",
        "\n",
        "earlystopping = EarlyStopping(monitor = 'val_accuracy', \n",
        "                              mode = 'max' , \n",
        "                              patience = 6)\n",
        "\n",
        "checkpoint    = ModelCheckpoint(filepath, \n",
        "                                monitor = 'val_accuracy', \n",
        "                                mode='max', \n",
        "                                save_best_only=True, \n",
        "                                verbose = 1)\n",
        "\n",
        "callback_list = [earlystopping, checkpoint]"
      ],
      "metadata": {
        "id": "GbRnBd4mJdvn"
      },
      "execution_count": null,
      "outputs": []
    },
    {
      "cell_type": "code",
      "source": [
        "his = model.fit(train_data, steps_per_epoch=16, epochs=15, validation_steps= 2,\n",
        "                    validation_data = val_data,\n",
        "                    callbacks = callback_list\n",
        "                    )"
      ],
      "metadata": {
        "colab": {
          "base_uri": "https://localhost:8080/"
        },
        "id": "wLg5_4jGJzpb",
        "outputId": "308c5201-ec2c-438e-fd34-8653f69b9da1"
      },
      "execution_count": null,
      "outputs": [
        {
          "output_type": "stream",
          "name": "stdout",
          "text": [
            "Epoch 1/15\n",
            "16/16 [==============================] - ETA: 0s - loss: 13.7321 - accuracy: 0.5703\n",
            "Epoch 00001: val_accuracy improved from -inf to 0.67188, saving model to ./bestmodel.h5\n",
            "16/16 [==============================] - 30s 1s/step - loss: 13.7321 - accuracy: 0.5703 - val_loss: 1.0266 - val_accuracy: 0.6719\n",
            "Epoch 2/15\n",
            "16/16 [==============================] - ETA: 0s - loss: 1.5523 - accuracy: 0.6719\n",
            "Epoch 00002: val_accuracy improved from 0.67188 to 0.71875, saving model to ./bestmodel.h5\n",
            "16/16 [==============================] - 12s 754ms/step - loss: 1.5523 - accuracy: 0.6719 - val_loss: 1.1763 - val_accuracy: 0.7188\n",
            "Epoch 3/15\n",
            "16/16 [==============================] - ETA: 0s - loss: 0.6940 - accuracy: 0.7793\n",
            "Epoch 00003: val_accuracy improved from 0.71875 to 0.84375, saving model to ./bestmodel.h5\n",
            "16/16 [==============================] - 12s 741ms/step - loss: 0.6940 - accuracy: 0.7793 - val_loss: 0.4089 - val_accuracy: 0.8438\n",
            "Epoch 4/15\n",
            "16/16 [==============================] - ETA: 0s - loss: 0.4550 - accuracy: 0.8203\n",
            "Epoch 00004: val_accuracy did not improve from 0.84375\n",
            "16/16 [==============================] - 10s 587ms/step - loss: 0.4550 - accuracy: 0.8203 - val_loss: 0.5240 - val_accuracy: 0.7969\n",
            "Epoch 5/15\n",
            "16/16 [==============================] - ETA: 0s - loss: 0.5296 - accuracy: 0.7871\n",
            "Epoch 00005: val_accuracy did not improve from 0.84375\n",
            "16/16 [==============================] - 10s 604ms/step - loss: 0.5296 - accuracy: 0.7871 - val_loss: 0.5327 - val_accuracy: 0.7812\n",
            "Epoch 6/15\n",
            "16/16 [==============================] - ETA: 0s - loss: 0.5739 - accuracy: 0.7637\n",
            "Epoch 00006: val_accuracy did not improve from 0.84375\n",
            "16/16 [==============================] - 10s 584ms/step - loss: 0.5739 - accuracy: 0.7637 - val_loss: 0.4131 - val_accuracy: 0.7812\n",
            "Epoch 7/15\n",
            "16/16 [==============================] - ETA: 0s - loss: 0.6412 - accuracy: 0.7285\n",
            "Epoch 00007: val_accuracy did not improve from 0.84375\n",
            "16/16 [==============================] - 10s 583ms/step - loss: 0.6412 - accuracy: 0.7285 - val_loss: 0.5092 - val_accuracy: 0.7500\n",
            "Epoch 8/15\n",
            "16/16 [==============================] - ETA: 0s - loss: 0.4933 - accuracy: 0.7988\n",
            "Epoch 00008: val_accuracy improved from 0.84375 to 0.85938, saving model to ./bestmodel.h5\n",
            "16/16 [==============================] - 12s 733ms/step - loss: 0.4933 - accuracy: 0.7988 - val_loss: 0.3752 - val_accuracy: 0.8594\n",
            "Epoch 9/15\n",
            "16/16 [==============================] - ETA: 0s - loss: 0.5937 - accuracy: 0.7344\n",
            "Epoch 00009: val_accuracy did not improve from 0.85938\n",
            "16/16 [==============================] - 10s 586ms/step - loss: 0.5937 - accuracy: 0.7344 - val_loss: 0.5319 - val_accuracy: 0.7812\n",
            "Epoch 10/15\n",
            "16/16 [==============================] - ETA: 0s - loss: 0.5797 - accuracy: 0.7520\n",
            "Epoch 00010: val_accuracy did not improve from 0.85938\n",
            "16/16 [==============================] - 9s 579ms/step - loss: 0.5797 - accuracy: 0.7520 - val_loss: 0.3222 - val_accuracy: 0.8594\n",
            "Epoch 11/15\n",
            "16/16 [==============================] - ETA: 0s - loss: 0.4930 - accuracy: 0.7793\n",
            "Epoch 00011: val_accuracy did not improve from 0.85938\n",
            "16/16 [==============================] - 9s 577ms/step - loss: 0.4930 - accuracy: 0.7793 - val_loss: 0.4817 - val_accuracy: 0.7969\n",
            "Epoch 12/15\n",
            "16/16 [==============================] - ETA: 0s - loss: 0.5187 - accuracy: 0.7930\n",
            "Epoch 00012: val_accuracy did not improve from 0.85938\n",
            "16/16 [==============================] - 9s 573ms/step - loss: 0.5187 - accuracy: 0.7930 - val_loss: 0.7334 - val_accuracy: 0.6406\n",
            "Epoch 13/15\n",
            "16/16 [==============================] - ETA: 0s - loss: 0.5625 - accuracy: 0.7500\n",
            "Epoch 00013: val_accuracy did not improve from 0.85938\n",
            "16/16 [==============================] - 9s 578ms/step - loss: 0.5625 - accuracy: 0.7500 - val_loss: 0.4994 - val_accuracy: 0.7969\n",
            "Epoch 14/15\n",
            "16/16 [==============================] - ETA: 0s - loss: 0.4967 - accuracy: 0.8086\n",
            "Epoch 00014: val_accuracy did not improve from 0.85938\n",
            "16/16 [==============================] - 9s 572ms/step - loss: 0.4967 - accuracy: 0.8086 - val_loss: 0.5521 - val_accuracy: 0.7031\n"
          ]
        }
      ]
    },
    {
      "cell_type": "code",
      "source": [
        "#model graphical view\n",
        "\n",
        "his = his.history\n",
        "his.keys()"
      ],
      "metadata": {
        "id": "L1J8tgxKQn1D",
        "colab": {
          "base_uri": "https://localhost:8080/"
        },
        "outputId": "d6a2ae1e-6b52-4190-fefb-3e8eb5489891"
      },
      "execution_count": null,
      "outputs": [
        {
          "output_type": "execute_result",
          "data": {
            "text/plain": [
              "dict_keys(['loss', 'accuracy', 'val_loss', 'val_accuracy'])"
            ]
          },
          "metadata": {},
          "execution_count": 80
        }
      ]
    },
    {
      "cell_type": "code",
      "source": [
        "plt.plot(his['accuracy'])\n",
        "plt.plot(his['val_accuracy'], c ='red')\n",
        "\n",
        "plt.title('acc vs val_acc')\n",
        "plt.xlabel(\"Epochs\")\n",
        "plt.ylabel(\"Accuracy\")\n",
        "plt.legend([\"Train\",\"val\"],loc = \"upper left\")\n",
        "plt.show"
      ],
      "metadata": {
        "colab": {
          "base_uri": "https://localhost:8080/",
          "height": 312
        },
        "id": "xLwBy-gMPMZi",
        "outputId": "639d9c54-c1f5-40d0-c48d-ea62b143991c"
      },
      "execution_count": null,
      "outputs": [
        {
          "output_type": "execute_result",
          "data": {
            "text/plain": [
              "<function matplotlib.pyplot.show>"
            ]
          },
          "metadata": {},
          "execution_count": 81
        },
        {
          "output_type": "display_data",
          "data": {
            "image/png": "[encoded data removed]",
            "text/plain": [
              "<Figure size 432x288 with 1 Axes>"
            ]
          },
          "metadata": {
            "needs_background": "light"
          }
        }
      ]
    },
    {
      "cell_type": "code",
      "source": [
        "plt.plot(his['loss'])\n",
        "plt.plot(his['val_loss'], c ='red')\n",
        "\n",
        "plt.title('loss vs val_loss')\n",
        "plt.xlabel(\"Epochs\")\n",
        "plt.ylabel(\"Loss\")\n",
        "plt.legend([\"Train\",\"val\"],loc = \"upper left\")\n",
        "plt.show"
      ],
      "metadata": {
        "id": "loe1_mt-POdr",
        "colab": {
          "base_uri": "https://localhost:8080/",
          "height": 312
        },
        "outputId": "3ce2e684-10bc-448f-d526-17ba17a84b01"
      },
      "execution_count": null,
      "outputs": [
        {
          "output_type": "execute_result",
          "data": {
            "text/plain": [
              "<function matplotlib.pyplot.show>"
            ]
          },
          "metadata": {},
          "execution_count": 83
        },
        {
          "output_type": "display_data",
          "data": {
            "image/png": "[encoded data removed]",
            "text/plain": [
              "<Figure size 432x288 with 1 Axes>"
            ]
          },
          "metadata": {
            "needs_background": "light"
          }
        }
      ]
    },
    {
      "cell_type": "code",
      "source": [
        "#model accuracy\n",
        "\n",
        "from keras.models import load_model\n",
        "\n",
        "model = load_model('/content/bestmodel.h5')"
      ],
      "metadata": {
        "id": "QoXgy7Fj_nkz"
      },
      "execution_count": null,
      "outputs": []
    },
    {
      "cell_type": "code",
      "source": [
        "acc = model.evaluate_generator(test_data)[1]\n",
        "\n",
        "print(acc)"
      ],
      "metadata": {
        "colab": {
          "base_uri": "https://localhost:8080/"
        },
        "id": "4Hjng8gU_rMb",
        "outputId": "f0cdc0af-1520-471e-bf1d-b7fbe7220375"
      },
      "execution_count": null,
      "outputs": [
        {
          "output_type": "stream",
          "name": "stderr",
          "text": [
            "/usr/local/lib/python3.7/dist-packages/ipykernel_launcher.py:1: UserWarning: `Model.evaluate_generator` is deprecated and will be removed in a future version. Please use `Model.evaluate`, which supports generators.\n",
            "  \"\"\"Entry point for launching an IPython kernel.\n"
          ]
        },
        {
          "output_type": "stream",
          "name": "stdout",
          "text": [
            "0.804809033870697\n"
          ]
        }
      ]
    },
    {
      "cell_type": "code",
      "source": [
        ""
      ],
      "metadata": {
        "id": "C2Tu-1HiFGwp"
      },
      "execution_count": null,
      "outputs": []
    }
  ]
}